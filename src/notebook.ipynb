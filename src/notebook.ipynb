{
 "cells": [
  {
   "cell_type": "markdown",
   "metadata": {},
   "source": [
    "# Project introduction:\n",
    "### Which NYC schools have the best math results?\n",
    "- The best math results are at least 80% of the **maximum possible score of 800** for math.\n",
    "- Save your results in a pandas DataFrame called **best_math_schools**, including `\"school_name\"` and `\"average_math\"` columns, sorted by `\"average_math\"` in descending order.\n",
    "### What are the top 10 performing schools based on the combined SAT scores?\n",
    "- Save your results as a pandas DataFrame called **top_10_schools** containing the `\"school_name\"` and a new column named `\"total_SAT\"`, with results ordered by `\"total_SAT\"` in descending order.\n",
    "### Which single borough has the largest standard deviation in the combined SAT score?\n",
    "- Save your results as a pandas DataFrame called **largest_std_dev**.\n",
    "- The DataFrame should contain one row, with:\n",
    "1. `\"borough\"` - the name of the NYC borough with the largest standard deviation of `\"total_SAT\"`.\n",
    "2. `\"num_schools\"` - the number of schools in the borough.\n",
    "3. `\"average_SAT\"` - the mean of `\"total_SAT\"`.\n",
    "4. `\"std_SAT\"` - the standard deviation of `\"total_SAT\"`.\n",
    "- Round all numeric values to two decimal places.\n",
    "## Tóm tắt:\n",
    "- Yêu cầu đầu tiên đưa ra những trường học thuộc thành phố New York có thành tích toán tốt nhất với ràng buộc của môn toán: \"phải đạt tối thiểu 80% số điểm trên tổng điểm 800\" => điểm để gọi là tốt của môn toán là từ 640~800. Lưu dữ liệu trong dạng DF với các cột tương ứng xếp hạng giảm dần.\n",
    "- Tìm ra 10 trường có thành tích tốt nhất dựa trên điểm tổng hợp SAT \n",
    "- Tìm ra borough(quận) có độ lệch chuẩn lớn nhất trong điểm SAT\n",
    "Tất cả các giá trị đều lấy làm tròn đến số thập phân thứ 2"
   ]
  },
  {
   "cell_type": "code",
   "execution_count": null,
   "metadata": {},
   "outputs": [],
   "source": []
  }
 ],
 "metadata": {
  "kernelspec": {
   "display_name": "Python 3",
   "language": "python",
   "name": "python3"
  },
  "language_info": {
   "name": "python",
   "version": "3.11.7"
  }
 },
 "nbformat": 4,
 "nbformat_minor": 2
}
