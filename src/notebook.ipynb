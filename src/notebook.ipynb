{
 "cells": [
  {
   "cell_type": "markdown",
   "metadata": {},
   "source": [
    "# Project introduction:\n",
    "### Which NYC schools have the best math results?\n",
    "- The best math results are at least 80% of the **maximum possible score of 800** for math.\n",
    "- Save your results in a pandas DataFrame called **best_math_schools**, including `\"school_name\"` and `\"average_math\"` columns, sorted by `\"average_math\"` in descending order.\n",
    "### What are the top 10 performing schools based on the combined SAT scores?\n",
    "- Save your results as a pandas DataFrame called **top_10_schools** containing the `\"school_name\"` and a new column named `\"total_SAT\"`, with results ordered by `\"total_SAT\"` in descending order.\n",
    "### Which single borough has the largest standard deviation in the combined SAT score?\n",
    "- Save your results as a pandas DataFrame called **largest_std_dev**.\n",
    "- The DataFrame should contain one row, with:\n",
    "1. `\"borough\"` - the name of the NYC borough with the largest standard deviation of `\"total_SAT\"`.\n",
    "2. `\"num_schools\"` - the number of schools in the borough.\n",
    "3. `\"average_SAT\"` - the mean of `\"total_SAT\"`.\n",
    "4. `\"std_SAT\"` - the standard deviation of `\"total_SAT\"`.\n",
    "- Round all numeric values to two decimal places.\n",
    "## Tóm tắt:\n",
    "- Yêu cầu đầu tiên đưa ra những trường học thuộc thành phố New York có thành tích toán tốt nhất với ràng buộc của môn toán: \"phải đạt tối thiểu 80% số điểm trên tổng điểm 800\" => điểm để gọi là tốt của môn toán là từ 640~800. Lưu dữ liệu trong dạng DF với các cột tương ứng xếp hạng giảm dần.\n",
    "- Tìm ra 10 trường có thành tích tốt nhất dựa trên điểm tổng hợp SAT \n",
    "- Tìm ra borough(quận) có độ lệch chuẩn lớn nhất trong điểm SAT\n",
    "Tất cả các giá trị đều lấy làm tròn đến số thập phân thứ 2"
   ]
  },
  {
   "cell_type": "code",
   "execution_count": 1,
   "metadata": {},
   "outputs": [],
   "source": [
    "# Library Cell\n",
    "import pandas as pd"
   ]
  },
  {
   "cell_type": "code",
   "execution_count": 5,
   "metadata": {},
   "outputs": [
    {
     "name": "stdout",
     "output_type": "stream",
     "text": [
      "                                         school_name    borough building_code  \\\n",
      "0  New Explorations into Science, Technology and ...  Manhattan          M022   \n",
      "1                               Essex Street Academy  Manhattan          M445   \n",
      "2                       Lower Manhattan Arts Academy  Manhattan          M445   \n",
      "3    High School for Dual Language and Asian Studies  Manhattan          M445   \n",
      "4      Henry Street School for International Studies  Manhattan          M056   \n",
      "\n",
      "   average_math  average_reading  average_writing  percent_tested  \n",
      "0           657              601              601             NaN  \n",
      "1           395              411              387            78.9  \n",
      "2           418              428              415            65.1  \n",
      "3           613              453              463            95.9  \n",
      "4           410              406              381            59.7  \n"
     ]
    }
   ],
   "source": [
    "# Path variable declaration\n",
    "file_path = r'D:\\Repo-train\\Jnotebook\\Exploring_NYC_Public_School _Test _Result_Scores\\dataset\\schools.csv'\n",
    "# Read data from CSV as DF\n",
    "# Đọc dữ liệu từ file csv\n",
    "schools = pd.read_csv(file_path)\n",
    "# Show head Df\n",
    "# Hiển thị 5 dòng đầu của DF\n",
    "print(schools.head())"
   ]
  },
  {
   "cell_type": "code",
   "execution_count": 7,
   "metadata": {},
   "outputs": [
    {
     "name": "stdout",
     "output_type": "stream",
     "text": [
      "                                           school_name  average_math\n",
      "88                              Stuyvesant High School           754\n",
      "170                       Bronx High School of Science           714\n",
      "93                 Staten Island Technical High School           711\n",
      "365  Queens High School for the Sciences at York Co...           701\n",
      "68   High School for Mathematics, Science, and Engi...           683\n",
      "280                     Brooklyn Technical High School           682\n",
      "333                        Townsend Harris High School           680\n",
      "174  High School of American Studies at Lehman College           669\n",
      "0    New Explorations into Science, Technology and ...           657\n",
      "45                       Eleanor Roosevelt High School           641\n"
     ]
    }
   ],
   "source": [
    "# 1. Which schools with best results in Math?\n",
    "# Creat DF to save result, using logic operator to filter data\n",
    "# Tạo DF để lưu kết quả, sử dụng toán tử logic để lọc dữ liệu\n",
    "best_math_schools = schools[schools['average_math'] >= 800*0.8][['school_name', 'average_math']]\n",
    "# Show result sorted by average_math descending\n",
    "# Hiển thị kết quả sắp xếp theo average_math giảm dần \n",
    "print(best_math_schools.sort_values(by='average_math', ascending=False))"
   ]
  },
  {
   "cell_type": "code",
   "execution_count": 11,
   "metadata": {},
   "outputs": [
    {
     "name": "stdout",
     "output_type": "stream",
     "text": [
      "                                           school_name  total_SAT\n",
      "88                              Stuyvesant High School       2144\n",
      "170                       Bronx High School of Science       2041\n",
      "93                 Staten Island Technical High School       2041\n",
      "174  High School of American Studies at Lehman College       2013\n",
      "333                        Townsend Harris High School       1981\n",
      "365  Queens High School for the Sciences at York Co...       1947\n",
      "5                       Bard High School Early College       1914\n",
      "280                     Brooklyn Technical High School       1896\n",
      "45                       Eleanor Roosevelt High School       1889\n",
      "68   High School for Mathematics, Science, and Engi...       1889\n"
     ]
    }
   ],
   "source": [
    "# 2. Top 10 schools with best results SAT\n",
    "# Create column to save SAT score\n",
    "# Tạo cột để lưu điểm SAT\n",
    "schools['total_SAT'] = (schools['average_math'] + schools['average_reading'] + schools['average_writing'])\n",
    "# Creat DF to save result and sort top 10 schools with best SAT score\n",
    "# Tạo DF để lưu kết quả và sắp xếp top 10 trường có điểm SAT cao nhất\n",
    "top_10_shools = schools.sort_values(by='total_sat', ascending=False)[['school_name', 'total_SAT']].head(10)\n",
    "# Show result\n",
    "# Hiển thị kết quả\n",
    "print(top_10_shools)"
   ]
  },
  {
   "cell_type": "code",
   "execution_count": 13,
   "metadata": {},
   "outputs": [
    {
     "name": "stdout",
     "output_type": "stream",
     "text": [
      "\n",
      "Borough with Largest Standard Deviation:\n",
      "      borough  num_schools  average_SAT  std_SAT\n",
      "0  Manhattan           89      1340.13   230.29\n"
     ]
    }
   ],
   "source": [
    "# 3. Borough with Largest Standard Deviation\n",
    "# Group data by borough and calculate the number of schools, average SAT score and standard deviation\n",
    "# Nhóm dữ liệu theo quận và tính số trường học, điểm SAT trung bình và độ lệch chuẩn\n",
    "borough_stats = schools.groupby('borough').agg(\n",
    "    num_schools=('school_name', 'size'),\n",
    "    average_SAT=('total_SAT', 'mean'),\n",
    "    std_SAT=('total_SAT', 'std')\n",
    ").reset_index()\n",
    "# Round numeric columns to two decimal places\n",
    "# Làm tròn cột số thành hai chữ số thập phân\n",
    "borough_stats['average_SAT'] = borough_stats['average_SAT'].round(2)\n",
    "borough_stats['std_SAT'] = borough_stats['std_SAT'].round(2)\n",
    "# Find the borough with the largest standard deviation\n",
    "# Tìm quận có độ lệch chuẩn lớn nhất\n",
    "largest_std_dev = borough_stats.loc[borough_stats['std_SAT'].idxmax()]\n",
    "# Convert the result to a DataFrame\n",
    "# Chuyển kết quả thành DataFrame\n",
    "largest_std_dev = pd.DataFrame([largest_std_dev]).reset_index(drop=True)\n",
    "# Show result\n",
    "# Hiển thị kết quả\n",
    "print(\"\\nBorough with Largest Standard Deviation:\\n\", largest_std_dev)"
   ]
  },
  {
   "cell_type": "code",
   "execution_count": null,
   "metadata": {},
   "outputs": [],
   "source": []
  }
 ],
 "metadata": {
  "kernelspec": {
   "display_name": "Python 3",
   "language": "python",
   "name": "python3"
  },
  "language_info": {
   "codemirror_mode": {
    "name": "ipython",
    "version": 3
   },
   "file_extension": ".py",
   "mimetype": "text/x-python",
   "name": "python",
   "nbconvert_exporter": "python",
   "pygments_lexer": "ipython3",
   "version": "3.11.7"
  }
 },
 "nbformat": 4,
 "nbformat_minor": 2
}
